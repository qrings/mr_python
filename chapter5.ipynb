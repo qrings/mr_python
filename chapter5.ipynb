{
  "nbformat": 4,
  "nbformat_minor": 0,
  "metadata": {
    "colab": {
      "provenance": [],
      "collapsed_sections": [],
      "authorship_tag": "ABX9TyMCIbZdfJOExAPwYrejwmJT",
      "include_colab_link": true
    },
    "kernelspec": {
      "name": "python3",
      "display_name": "Python 3"
    },
    "language_info": {
      "name": "python"
    }
  },
  "cells": [
    {
      "cell_type": "markdown",
      "metadata": {
        "id": "view-in-github",
        "colab_type": "text"
      },
      "source": [
        "<a href=\"https://colab.research.google.com/github/qrings/mr_python/blob/main/chapter5.ipynb\" target=\"_parent\"><img src=\"https://colab.research.google.com/assets/colab-badge.svg\" alt=\"Open In Colab\"/></a>"
      ]
    },
    {
      "cell_type": "code",
      "execution_count": 6,
      "metadata": {
        "colab": {
          "base_uri": "https://localhost:8080/"
        },
        "id": "66ppcbozFhQJ",
        "outputId": "2dc15938-878b-40a5-db9a-0127a40cd659"
      },
      "outputs": [
        {
          "output_type": "stream",
          "name": "stdout",
          "text": [
            "조건문을 실행합니다\n",
            "4 는 짝수입니다.\n",
            "수고하셨습니다.\n"
          ]
        }
      ],
      "source": [
        "#조건문\n",
        "\n",
        "if True:\n",
        "  print(\"조건문을 실행합니다\")\n",
        "\n",
        "x = 4\n",
        "if x % 2 == 0 :\n",
        "  print(x, \"는 짝수입니다.\")\n",
        "\n",
        "x = 5\n",
        "if x % 2 == 0 :\n",
        "  print(x, \"는 짝수입니다.\")\n",
        "\n",
        "x = 3\n",
        "if x % 2 == 0 :\n",
        "  print(x, \"는 짝수입니다.\")\n",
        "print(\"수고하셨습니다.\")"
      ]
    },
    {
      "cell_type": "code",
      "source": [],
      "metadata": {
        "id": "XukXroeGF901"
      },
      "execution_count": null,
      "outputs": []
    }
  ]
}